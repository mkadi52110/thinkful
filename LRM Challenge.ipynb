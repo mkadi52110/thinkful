{
 "cells": [
  {
   "cell_type": "code",
   "execution_count": 1,
   "metadata": {},
   "outputs": [
    {
     "name": "stderr",
     "output_type": "stream",
     "text": [
      "/Users/Kadibhai/anaconda/lib/python3.6/site-packages/statsmodels/compat/pandas.py:56: FutureWarning: The pandas.core.datetools module is deprecated and will be removed in a future version. Please use the pandas.tseries module instead.\n",
      "  from pandas.core import datetools\n"
     ]
    }
   ],
   "source": [
    "import numpy as np\n",
    "import pandas as pd\n",
    "import matplotlib.pyplot as plt\n",
    "from sqlalchemy import create_engine\n",
    "from sklearn.model_selection import train_test_split, cross_val_score\n",
    "from sklearn.metrics import mean_absolute_error\n",
    "from statsmodels.tools.eval_measures import mse, rmse\n",
    "from sklearn.linear_model import LinearRegression, LassoCV, RidgeCV, ElasticNetCV\n",
    "import statsmodels.api as sm\n",
    "%matplotlib inline\n",
    "import warnings\n",
    "warnings.filterwarnings('ignore')\n",
    "\n",
    "postgres_user = 'dsbc_student'\n",
    "postgres_pw = '7*.8G9QH21'\n",
    "postgres_host = '142.93.121.174'\n",
    "postgres_port = '5432'\n",
    "postgres_db = 'houseprices'"
   ]
  },
  {
   "cell_type": "code",
   "execution_count": 2,
   "metadata": {},
   "outputs": [],
   "source": [
    "engine = create_engine('postgresql://{}:{}@{}:{}/{}'.format(\n",
    "    postgres_user, postgres_pw, postgres_host, postgres_port, postgres_db))\n",
    "hp_df = pd.read_sql_query('select * from houseprices',con=engine)\n",
    "\n",
    "# no need for an open connection, as we're only doing a single query\n",
    "engine.dispose()"
   ]
  },
  {
   "cell_type": "code",
   "execution_count": 3,
   "metadata": {},
   "outputs": [
    {
     "data": {
      "image/png": "[encoded data removed]",
      "text/plain": [
       "<matplotlib.figure.Figure at 0x102c485c0>"
      ]
     },
     "metadata": {},
     "output_type": "display_data"
    }
   ],
   "source": [
    "hp_df.hist('saleprice')\n",
    "\n",
    "plt.show()"
   ]
  },
  {
   "cell_type": "code",
   "execution_count": 4,
   "metadata": {},
   "outputs": [
    {
     "data": {
      "image/png": "[encoded data removed]",
      "text/plain": [
       "<matplotlib.figure.Figure at 0x10f41a5c0>"
      ]
     },
     "metadata": {},
     "output_type": "display_data"
    }
   ],
   "source": [
    "hp_df.boxplot('saleprice')\n",
    "plt.show()"
   ]
  },
  {
   "cell_type": "code",
   "execution_count": 5,
   "metadata": {
    "collapsed": true
   },
   "outputs": [],
   "source": [
    "from scipy.stats.mstats import winsorize\n",
    "\n",
    "hp_df['saleprice'] = winsorize(hp_df[\"saleprice\"], (0.0, 0.05))"
   ]
  },
  {
   "cell_type": "code",
   "execution_count": 6,
   "metadata": {},
   "outputs": [
    {
     "data": {
      "image/png": "[encoded data removed]",
      "text/plain": [
       "<matplotlib.figure.Figure at 0x10eee9e10>"
      ]
     },
     "metadata": {},
     "output_type": "display_data"
    }
   ],
   "source": [
    "hp_df.boxplot('saleprice')\n",
    "plt.show()"
   ]
  },
  {
   "cell_type": "code",
   "execution_count": 7,
   "metadata": {},
   "outputs": [
    {
     "data": {
      "image/png": "[encoded data removed]",
      "text/plain": [
       "<matplotlib.figure.Figure at 0x10f5bcba8>"
      ]
     },
     "metadata": {},
     "output_type": "display_data"
    }
   ],
   "source": [
    "hp = np.log(hp_df['saleprice'])\n",
    "\n",
    "plt.hist(hp)\n",
    "plt.show()"
   ]
  },
  {
   "cell_type": "code",
   "execution_count": 8,
   "metadata": {},
   "outputs": [
    {
     "data": {
      "text/plain": [
       "saleprice        1.000000\n",
       "overallqual      0.817302\n",
       "grlivarea        0.698896\n",
       "garagecars       0.673251\n",
       "garagearea       0.650682\n",
       "totalbsmtsf      0.607060\n",
       "firstflrsf       0.595839\n",
       "fullbath         0.587478\n",
       "yearbuilt        0.573333\n",
       "yearremodadd     0.556189\n",
       "garageyrblt      0.529109\n",
       "totrmsabvgrd     0.528495\n",
       "fireplaces       0.487817\n",
       "masvnrarea       0.437575\n",
       "bsmtfinsf1       0.366059\n",
       "lotfrontage      0.355445\n",
       "openporchsf      0.339091\n",
       "wooddecksf       0.337500\n",
       "secondflrsf      0.318260\n",
       "halfbath         0.296301\n",
       "lotarea          0.262168\n",
       "bsmtfullbath     0.238510\n",
       "bsmtunfsf        0.227253\n",
       "bedroomabvgr     0.183811\n",
       "screenporch      0.109778\n",
       "mosold           0.068987\n",
       "poolarea         0.055844\n",
       "threessnporch    0.050442\n",
       "bsmtfinsf2      -0.006533\n",
       "miscval         -0.019959\n",
       "bsmthalfbath    -0.026427\n",
       "id              -0.027107\n",
       "yrsold          -0.032102\n",
       "lowqualfinsf    -0.041494\n",
       "overallcond     -0.073638\n",
       "mssubclass      -0.084259\n",
       "enclosedporch   -0.141650\n",
       "kitchenabvgr    -0.150762\n",
       "Name: saleprice, dtype: float64"
      ]
     },
     "execution_count": 8,
     "metadata": {},
     "output_type": "execute_result"
    }
   ],
   "source": [
    "hp_df.corr().saleprice.sort_values(ascending=False\n",
    "                                )"
   ]
  },
  {
   "cell_type": "code",
   "execution_count": 9,
   "metadata": {},
   "outputs": [
    {
     "data": {
      "text/plain": [
       "id                  0\n",
       "mssubclass          0\n",
       "mszoning            0\n",
       "lotfrontage       259\n",
       "lotarea             0\n",
       "street              0\n",
       "alley            1369\n",
       "lotshape            0\n",
       "landcontour         0\n",
       "utilities           0\n",
       "lotconfig           0\n",
       "landslope           0\n",
       "neighborhood        0\n",
       "condition1          0\n",
       "condition2          0\n",
       "bldgtype            0\n",
       "housestyle          0\n",
       "overallqual         0\n",
       "overallcond         0\n",
       "yearbuilt           0\n",
       "yearremodadd        0\n",
       "roofstyle           0\n",
       "roofmatl            0\n",
       "exterior1st         0\n",
       "exterior2nd         0\n",
       "masvnrtype          8\n",
       "masvnrarea          8\n",
       "exterqual           0\n",
       "extercond           0\n",
       "foundation          0\n",
       "                 ... \n",
       "bedroomabvgr        0\n",
       "kitchenabvgr        0\n",
       "kitchenqual         0\n",
       "totrmsabvgrd        0\n",
       "functional          0\n",
       "fireplaces          0\n",
       "fireplacequ       690\n",
       "garagetype         81\n",
       "garageyrblt        81\n",
       "garagefinish       81\n",
       "garagecars          0\n",
       "garagearea          0\n",
       "garagequal         81\n",
       "garagecond         81\n",
       "paveddrive          0\n",
       "wooddecksf          0\n",
       "openporchsf         0\n",
       "enclosedporch       0\n",
       "threessnporch       0\n",
       "screenporch         0\n",
       "poolarea            0\n",
       "poolqc           1453\n",
       "fence            1179\n",
       "miscfeature      1406\n",
       "miscval             0\n",
       "mosold              0\n",
       "yrsold              0\n",
       "saletype            0\n",
       "salecondition       0\n",
       "saleprice           0\n",
       "Length: 81, dtype: int64"
      ]
     },
     "execution_count": 9,
     "metadata": {},
     "output_type": "execute_result"
    }
   ],
   "source": [
    "pd.isnull(hp_df).sum()"
   ]
  },
  {
   "cell_type": "code",
   "execution_count": 10,
   "metadata": {},
   "outputs": [
    {
     "name": "stdout",
     "output_type": "stream",
     "text": [
      "Index(['mszoning', 'street', 'alley', 'lotshape', 'landcontour', 'utilities',\n",
      "       'lotconfig', 'landslope', 'neighborhood', 'condition1', 'condition2',\n",
      "       'bldgtype', 'housestyle', 'roofstyle', 'roofmatl', 'exterior1st',\n",
      "       'exterior2nd', 'masvnrtype', 'exterqual', 'extercond', 'foundation',\n",
      "       'bsmtqual', 'bsmtcond', 'bsmtexposure', 'bsmtfintype1', 'bsmtfintype2',\n",
      "       'heating', 'heatingqc', 'centralair', 'electrical', 'kitchenqual',\n",
      "       'functional', 'fireplacequ', 'garagetype', 'garagefinish', 'garagequal',\n",
      "       'garagecond', 'paveddrive', 'poolqc', 'fence', 'miscfeature',\n",
      "       'saletype', 'salecondition'],\n",
      "      dtype='object')\n"
     ]
    }
   ],
   "source": [
    "# identify non numeric columns\n",
    "\n",
    "non_numeric_columns = hp_df.select_dtypes(['object']).columns\n",
    "print(non_numeric_columns)"
   ]
  },
  {
   "cell_type": "code",
   "execution_count": 11,
   "metadata": {},
   "outputs": [
    {
     "data": {
      "text/plain": [
       "<matplotlib.axes._subplots.AxesSubplot at 0x10f603cc0>"
      ]
     },
     "execution_count": 11,
     "metadata": {},
     "output_type": "execute_result"
    },
    {
     "data": {
      "image/png": "[encoded data removed]",
      "text/plain": [
       "<matplotlib.figure.Figure at 0x10ee90780>"
      ]
     },
     "metadata": {},
     "output_type": "display_data"
    }
   ],
   "source": [
    "hp_loc = hp_df.groupby('mszoning')['saleprice'].mean()\n",
    "hp_loc.plot()"
   ]
  },
  {
   "cell_type": "code",
   "execution_count": 12,
   "metadata": {},
   "outputs": [],
   "source": [
    "## combining features to improve model\n",
    "hp_df['total_sf'] = hp_df['totalbsmtsf'] + hp_df['firstflrsf'] + hp_df['secondflrsf']\n",
    "hp_df['int_over_sf'] = hp_df['total_sf'] * hp_df['overallqual']\n",
    "\n",
    "hp_df = pd.concat([hp_df,pd.get_dummies(hp_df.mszoning, prefix=\"mszoning\", drop_first=True)], axis=1)\n",
    "hp_df = pd.concat([hp_df,pd.get_dummies(hp_df.street, prefix=\"street\", drop_first=True)], axis=1)\n",
    "dummy_column_names = list(pd.get_dummies(hp_df.mszoning, prefix=\"mszoning\", drop_first=True).columns)\n",
    "dummy_column_names = dummy_column_names + list(pd.get_dummies(hp_df.street, prefix=\"street\", drop_first=True).columns)"
   ]
  },
  {
   "cell_type": "code",
   "execution_count": 13,
   "metadata": {},
   "outputs": [
    {
     "data": {
      "text/html": [
       "<table class=\"simpletable\">\n",
       "<caption>OLS Regression Results</caption>\n",
       "<tr>\n",
       "  <th>Dep. Variable:</th>        <td>saleprice</td>    <th>  R-squared:         </th> <td>   0.839</td>\n",
       "</tr>\n",
       "<tr>\n",
       "  <th>Model:</th>                   <td>OLS</td>       <th>  Adj. R-squared:    </th> <td>   0.837</td>\n",
       "</tr>\n",
       "<tr>\n",
       "  <th>Method:</th>             <td>Least Squares</td>  <th>  F-statistic:       </th> <td>   500.9</td>\n",
       "</tr>\n",
       "<tr>\n",
       "  <th>Date:</th>             <td>Thu, 12 Sep 2019</td> <th>  Prob (F-statistic):</th>  <td>  0.00</td> \n",
       "</tr>\n",
       "<tr>\n",
       "  <th>Time:</th>                 <td>16:14:36</td>     <th>  Log-Likelihood:    </th> <td>  537.37</td>\n",
       "</tr>\n",
       "<tr>\n",
       "  <th>No. Observations:</th>      <td>  1168</td>      <th>  AIC:               </th> <td>  -1049.</td>\n",
       "</tr>\n",
       "<tr>\n",
       "  <th>Df Residuals:</th>          <td>  1155</td>      <th>  BIC:               </th> <td>  -982.9</td>\n",
       "</tr>\n",
       "<tr>\n",
       "  <th>Df Model:</th>              <td>    12</td>      <th>                     </th>     <td> </td>   \n",
       "</tr>\n",
       "<tr>\n",
       "  <th>Covariance Type:</th>      <td>nonrobust</td>    <th>                     </th>     <td> </td>   \n",
       "</tr>\n",
       "</table>\n",
       "<table class=\"simpletable\">\n",
       "<tr>\n",
       "       <td></td>          <th>coef</th>     <th>std err</th>      <th>t</th>      <th>P>|t|</th>  <th>[0.025</th>    <th>0.975]</th>  \n",
       "</tr>\n",
       "<tr>\n",
       "  <th>const</th>       <td>    9.5235</td> <td>    0.087</td> <td>  109.356</td> <td> 0.000</td> <td>    9.353</td> <td>    9.694</td>\n",
       "</tr>\n",
       "<tr>\n",
       "  <th>overallqual</th> <td>    0.2184</td> <td>    0.009</td> <td>   25.485</td> <td> 0.000</td> <td>    0.202</td> <td>    0.235</td>\n",
       "</tr>\n",
       "<tr>\n",
       "  <th>grlivarea</th>   <td>-4.168e-05</td> <td> 8.82e-05</td> <td>   -0.473</td> <td> 0.636</td> <td>   -0.000</td> <td>    0.000</td>\n",
       "</tr>\n",
       "<tr>\n",
       "  <th>garagecars</th>  <td>    0.0665</td> <td>    0.014</td> <td>    4.885</td> <td> 0.000</td> <td>    0.040</td> <td>    0.093</td>\n",
       "</tr>\n",
       "<tr>\n",
       "  <th>garagearea</th>  <td>    0.0001</td> <td> 4.72e-05</td> <td>    3.121</td> <td> 0.002</td> <td> 5.47e-05</td> <td>    0.000</td>\n",
       "</tr>\n",
       "<tr>\n",
       "  <th>totalbsmtsf</th> <td>   -0.0001</td> <td> 9.15e-05</td> <td>   -1.329</td> <td> 0.184</td> <td>   -0.000</td> <td> 5.79e-05</td>\n",
       "</tr>\n",
       "<tr>\n",
       "  <th>total_sf</th>    <td>    0.0005</td> <td> 9.26e-05</td> <td>    5.461</td> <td> 0.000</td> <td>    0.000</td> <td>    0.001</td>\n",
       "</tr>\n",
       "<tr>\n",
       "  <th>int_over_sf</th> <td>-4.069e-05</td> <td> 2.76e-06</td> <td>  -14.754</td> <td> 0.000</td> <td>-4.61e-05</td> <td>-3.53e-05</td>\n",
       "</tr>\n",
       "<tr>\n",
       "  <th>mszoning_FV</th> <td>    0.6018</td> <td>    0.062</td> <td>    9.775</td> <td> 0.000</td> <td>    0.481</td> <td>    0.723</td>\n",
       "</tr>\n",
       "<tr>\n",
       "  <th>mszoning_RH</th> <td>    0.4391</td> <td>    0.072</td> <td>    6.137</td> <td> 0.000</td> <td>    0.299</td> <td>    0.580</td>\n",
       "</tr>\n",
       "<tr>\n",
       "  <th>mszoning_RL</th> <td>    0.5854</td> <td>    0.058</td> <td>   10.147</td> <td> 0.000</td> <td>    0.472</td> <td>    0.699</td>\n",
       "</tr>\n",
       "<tr>\n",
       "  <th>mszoning_RM</th> <td>    0.4267</td> <td>    0.058</td> <td>    7.310</td> <td> 0.000</td> <td>    0.312</td> <td>    0.541</td>\n",
       "</tr>\n",
       "<tr>\n",
       "  <th>street_Pave</th> <td>   -0.0245</td> <td>    0.066</td> <td>   -0.372</td> <td> 0.710</td> <td>   -0.154</td> <td>    0.105</td>\n",
       "</tr>\n",
       "</table>\n",
       "<table class=\"simpletable\">\n",
       "<tr>\n",
       "  <th>Omnibus:</th>       <td>225.328</td> <th>  Durbin-Watson:     </th> <td>   1.990</td> \n",
       "</tr>\n",
       "<tr>\n",
       "  <th>Prob(Omnibus):</th> <td> 0.000</td>  <th>  Jarque-Bera (JB):  </th> <td> 699.957</td> \n",
       "</tr>\n",
       "<tr>\n",
       "  <th>Skew:</th>          <td>-0.951</td>  <th>  Prob(JB):          </th> <td>1.01e-152</td>\n",
       "</tr>\n",
       "<tr>\n",
       "  <th>Kurtosis:</th>      <td> 6.281</td>  <th>  Cond. No.          </th> <td>5.30e+05</td> \n",
       "</tr>\n",
       "</table>"
      ],
      "text/plain": [
       "<class 'statsmodels.iolib.summary.Summary'>\n",
       "\"\"\"\n",
       "                            OLS Regression Results                            \n",
       "==============================================================================\n",
       "Dep. Variable:              saleprice   R-squared:                       0.839\n",
       "Model:                            OLS   Adj. R-squared:                  0.837\n",
       "Method:                 Least Squares   F-statistic:                     500.9\n",
       "Date:                Thu, 12 Sep 2019   Prob (F-statistic):               0.00\n",
       "Time:                        16:14:36   Log-Likelihood:                 537.37\n",
       "No. Observations:                1168   AIC:                            -1049.\n",
       "Df Residuals:                    1155   BIC:                            -982.9\n",
       "Df Model:                          12                                         \n",
       "Covariance Type:            nonrobust                                         \n",
       "===============================================================================\n",
       "                  coef    std err          t      P>|t|      [0.025      0.975]\n",
       "-------------------------------------------------------------------------------\n",
       "const           9.5235      0.087    109.356      0.000       9.353       9.694\n",
       "overallqual     0.2184      0.009     25.485      0.000       0.202       0.235\n",
       "grlivarea   -4.168e-05   8.82e-05     -0.473      0.636      -0.000       0.000\n",
       "garagecars      0.0665      0.014      4.885      0.000       0.040       0.093\n",
       "garagearea      0.0001   4.72e-05      3.121      0.002    5.47e-05       0.000\n",
       "totalbsmtsf    -0.0001   9.15e-05     -1.329      0.184      -0.000    5.79e-05\n",
       "total_sf        0.0005   9.26e-05      5.461      0.000       0.000       0.001\n",
       "int_over_sf -4.069e-05   2.76e-06    -14.754      0.000   -4.61e-05   -3.53e-05\n",
       "mszoning_FV     0.6018      0.062      9.775      0.000       0.481       0.723\n",
       "mszoning_RH     0.4391      0.072      6.137      0.000       0.299       0.580\n",
       "mszoning_RL     0.5854      0.058     10.147      0.000       0.472       0.699\n",
       "mszoning_RM     0.4267      0.058      7.310      0.000       0.312       0.541\n",
       "street_Pave    -0.0245      0.066     -0.372      0.710      -0.154       0.105\n",
       "==============================================================================\n",
       "Omnibus:                      225.328   Durbin-Watson:                   1.990\n",
       "Prob(Omnibus):                  0.000   Jarque-Bera (JB):              699.957\n",
       "Skew:                          -0.951   Prob(JB):                    1.01e-152\n",
       "Kurtosis:                       6.281   Cond. No.                     5.30e+05\n",
       "==============================================================================\n",
       "\n",
       "Warnings:\n",
       "[1] Standard Errors assume that the covariance matrix of the errors is correctly specified.\n",
       "[2] The condition number is large, 5.3e+05. This might indicate that there are\n",
       "strong multicollinearity or other numerical problems.\n",
       "\"\"\""
      ]
     },
     "execution_count": 13,
     "metadata": {},
     "output_type": "execute_result"
    }
   ],
   "source": [
    "# Y is the target variable\n",
    "Y = np.log(hp_df['saleprice'])\n",
    "# X is the feature set\n",
    "X = hp_df[['overallqual', 'grlivarea', 'garagecars', 'garagearea', 'totalbsmtsf','total_sf','int_over_sf'] + dummy_column_names]\n",
    "\n",
    "X = sm.add_constant(X)\n",
    "\n",
    "X_train, X_test, y_train, y_test = train_test_split(X, Y, test_size = 0.2)\n",
    "\n",
    "results = sm.OLS(y_train, X_train).fit(cv=4)\n",
    "\n",
    "alphas = [np.power(10.0,p) for p in np.arange(-10,40,1)]\n",
    "\n",
    "results.summary()"
   ]
  },
  {
   "cell_type": "code",
   "execution_count": 14,
   "metadata": {},
   "outputs": [
    {
     "data": {
      "image/png": "[encoded data removed]",
      "text/plain": [
       "<matplotlib.figure.Figure at 0x10f91fe10>"
      ]
     },
     "metadata": {},
     "output_type": "display_data"
    },
    {
     "name": "stdout",
     "output_type": "stream",
     "text": [
      "-----Test set statistics-----\n",
      "Mean absolute error of the prediction is: 0.11605421971520874\n",
      "Mean squared error of the prediction is: 0.025152685715902776\n",
      "Root mean squared error of the prediction is: 0.15859598266003705\n",
      "Mean absolute percentage error of the prediction is: 0.9759382754095951\n"
     ]
    }
   ],
   "source": [
    "# We are making predictions here\n",
    "y_preds = results.predict(X_test)\n",
    "\n",
    "plt.scatter(y_test, y_preds)\n",
    "plt.plot(y_test, y_test, color=\"red\")\n",
    "plt.xlabel(\"true values\")\n",
    "plt.ylabel(\"predicted values\")\n",
    "plt.title(\"Charges: true and predicted values\")\n",
    "plt.show()\n",
    "print(\"-----Test set statistics-----\")\n",
    "print(\"Mean absolute error of the prediction is: {}\".format(mean_absolute_error(y_test, y_preds)))\n",
    "print(\"Mean squared error of the prediction is: {}\".format(mse(y_test, y_preds)))\n",
    "print(\"Root mean squared error of the prediction is: {}\".format(rmse(y_test, y_preds)))\n",
    "print(\"Mean absolute percentage error of the prediction is: {}\".format(np.mean(np.abs((y_test - y_preds) / y_test)) * 100))"
   ]
  },
  {
   "cell_type": "code",
   "execution_count": 15,
   "metadata": {},
   "outputs": [
    {
     "name": "stdout",
     "output_type": "stream",
     "text": [
      "Best alpha value is: 0.0001\n",
      "R-squared of the model in training set is: 0.8386185891423593\n",
      "-----Test set statistics-----\n",
      "R-squared of the model in test set is: 0.8034310281270466\n",
      "Mean absolute error of the prediction is: 0.11579605476448229\n",
      "Mean squared error of the prediction is: 0.024731616379371588\n",
      "Root mean squared error of the prediction is: 0.15726288939025504\n",
      "Mean absolute percentage error of the prediction is: 0.9736718929393576\n"
     ]
    }
   ],
   "source": [
    "lasso_cv = LassoCV(alphas=alphas, cv=5)\n",
    "\n",
    "lasso_cv.fit(X_train, y_train)\n",
    "\n",
    "# We are making predictions here\n",
    "y_preds_train = lasso_cv.predict(X_train)\n",
    "y_preds_test = lasso_cv.predict(X_test)\n",
    "\n",
    "print(\"Best alpha value is: {}\".format(lasso_cv.alpha_))\n",
    "print(\"R-squared of the model in training set is: {}\".format(lasso_cv.score(X_train, y_train)))\n",
    "print(\"-----Test set statistics-----\")\n",
    "print(\"R-squared of the model in test set is: {}\".format(lasso_cv.score(X_test, y_test)))\n",
    "print(\"Mean absolute error of the prediction is: {}\".format(mean_absolute_error(y_test, y_preds_test)))\n",
    "print(\"Mean squared error of the prediction is: {}\".format(mse(y_test, y_preds_test)))\n",
    "print(\"Root mean squared error of the prediction is: {}\".format(rmse(y_test, y_preds_test)))\n",
    "print(\"Mean absolute percentage error of the prediction is: {}\".format(np.mean(np.abs((y_test - y_preds_test) / y_test)) * 100))"
   ]
  },
  {
   "cell_type": "code",
   "execution_count": 16,
   "metadata": {},
   "outputs": [
    {
     "name": "stdout",
     "output_type": "stream",
     "text": [
      "Best alpha value is: 0.0001\n",
      "R-squared of the model in training set is: 0.8387000814992638\n",
      "-----Test set statistics-----\n",
      "R-squared of the model in test set is: 0.8026978519714633\n",
      "Mean absolute error of the prediction is: 0.11586002197932802\n",
      "Mean squared error of the prediction is: 0.02482386202346087\n",
      "Root mean squared error of the prediction is: 0.1575559012651093\n",
      "Mean absolute percentage error of the prediction is: 0.9742326992407482\n"
     ]
    }
   ],
   "source": [
    "elasticnet_cv = ElasticNetCV(alphas=alphas, cv=5)\n",
    "\n",
    "elasticnet_cv.fit(X_train, y_train)\n",
    "\n",
    "# We are making predictions here\n",
    "y_preds_train = elasticnet_cv.predict(X_train)\n",
    "y_preds_test = elasticnet_cv.predict(X_test)\n",
    "\n",
    "print(\"Best alpha value is: {}\".format(elasticnet_cv.alpha_))\n",
    "print(\"R-squared of the model in training set is: {}\".format(elasticnet_cv.score(X_train, y_train)))\n",
    "print(\"-----Test set statistics-----\")\n",
    "print(\"R-squared of the model in test set is: {}\".format(elasticnet_cv.score(X_test, y_test)))\n",
    "print(\"Mean absolute error of the prediction is: {}\".format(mean_absolute_error(y_test, y_preds_test)))\n",
    "print(\"Mean squared error of the prediction is: {}\".format(mse(y_test, y_preds_test)))\n",
    "print(\"Root mean squared error of the prediction is: {}\".format(rmse(y_test, y_preds_test)))\n",
    "print(\"Mean absolute percentage error of the prediction is: {}\".format(np.mean(np.abs((y_test - y_preds_test) / y_test)) * 100))\n"
   ]
  },
  {
   "cell_type": "markdown",
   "metadata": {},
   "source": [
    "### all three models perform similarly with good performance across test sets "
   ]
  },
  {
   "cell_type": "code",
   "execution_count": null,
   "metadata": {
    "collapsed": true
   },
   "outputs": [],
   "source": []
  },
  {
   "cell_type": "code",
   "execution_count": null,
   "metadata": {
    "collapsed": true
   },
   "outputs": [],
   "source": []
  }
 ],
 "metadata": {
  "kernelspec": {
   "display_name": "Python 3",
   "language": "python",
   "name": "python3"
  },
  "language_info": {
   "codemirror_mode": {
    "name": "ipython",
    "version": 3
   },
   "file_extension": ".py",
   "mimetype": "text/x-python",
   "name": "python",
   "nbconvert_exporter": "python",
   "pygments_lexer": "ipython3",
   "version": "3.6.1"
  }
 },
 "nbformat": 4,
 "nbformat_minor": 2
}
