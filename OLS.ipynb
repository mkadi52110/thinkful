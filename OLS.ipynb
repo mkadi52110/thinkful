{
 "cells": [
  {
   "cell_type": "code",
   "execution_count": 125,
   "metadata": {},
   "outputs": [],
   "source": [
    "import pandas as pd\n",
    "import numpy as np\n",
    "import matplotlib.pyplot as plt\n",
    "import seaborn as sns\n",
    "import statsmodels.api as sm\n",
    "from sqlalchemy import create_engine\n",
    "import warnings \n",
    "%matplotlib inline\n",
    "\n",
    "warnings.filterwarnings('ignore')\n",
    "sns.set(style='whitegrid')"
   ]
  },
  {
   "cell_type": "code",
   "execution_count": 126,
   "metadata": {},
   "outputs": [],
   "source": [
    "postgres_user = 'dsbc_student'\n",
    "postgres_pw = '7*.8G9QH21'\n",
    "postgres_host = '142.93.121.174'\n",
    "postgres_port = '5432'\n",
    "postgres_db = 'houseprices'\n",
    "\n",
    "engine = create_engine('postgresql://{}:{}@{}:{}/{}'.format(\n",
    "    postgres_user, postgres_pw, postgres_host, postgres_port, postgres_db))\n",
    "hp_df = pd.read_sql_query('select * from houseprices',con=engine)\n",
    "\n",
    "# no need for an open connection, as we're only doing a single query\n",
    "engine.dispose()"
   ]
  },
  {
   "cell_type": "markdown",
   "metadata": {},
   "source": [
    "### lets look at the target distribution"
   ]
  },
  {
   "cell_type": "code",
   "execution_count": 127,
   "metadata": {},
   "outputs": [
    {
     "data": {
      "image/png": "[encoded data removed]",
      "text/plain": [
       "<matplotlib.figure.Figure at 0x1275e3d68>"
      ]
     },
     "metadata": {},
     "output_type": "display_data"
    }
   ],
   "source": [
    "plt.hist(hp_df['saleprice'])\n",
    "plt.title(\"hist of salesprice\")\n",
    "plt.show()"
   ]
  },
  {
   "cell_type": "code",
   "execution_count": 128,
   "metadata": {},
   "outputs": [
    {
     "data": {
      "text/plain": [
       "saleprice        1.000000\n",
       "overallqual      0.790982\n",
       "grlivarea        0.708624\n",
       "garagecars       0.640409\n",
       "garagearea       0.623431\n",
       "totalbsmtsf      0.613581\n",
       "firstflrsf       0.605852\n",
       "fullbath         0.560664\n",
       "totrmsabvgrd     0.533723\n",
       "yearbuilt        0.522897\n",
       "yearremodadd     0.507101\n",
       "garageyrblt      0.486362\n",
       "masvnrarea       0.477493\n",
       "fireplaces       0.466929\n",
       "bsmtfinsf1       0.386420\n",
       "lotfrontage      0.351799\n",
       "wooddecksf       0.324413\n",
       "secondflrsf      0.319334\n",
       "openporchsf      0.315856\n",
       "halfbath         0.284108\n",
       "lotarea          0.263843\n",
       "bsmtfullbath     0.227122\n",
       "bsmtunfsf        0.214479\n",
       "bedroomabvgr     0.168213\n",
       "screenporch      0.111447\n",
       "poolarea         0.092404\n",
       "mosold           0.046432\n",
       "threessnporch    0.044584\n",
       "bsmtfinsf2      -0.011378\n",
       "bsmthalfbath    -0.016844\n",
       "miscval         -0.021190\n",
       "id              -0.021917\n",
       "lowqualfinsf    -0.025606\n",
       "yrsold          -0.028923\n",
       "overallcond     -0.077856\n",
       "mssubclass      -0.084284\n",
       "enclosedporch   -0.128578\n",
       "kitchenabvgr    -0.135907\n",
       "Name: saleprice, dtype: float64"
      ]
     },
     "execution_count": 128,
     "metadata": {},
     "output_type": "execute_result"
    }
   ],
   "source": [
    "hp_df.corr().loc[:,\"saleprice\"].sort_values(ascending=False)"
   ]
  },
  {
   "cell_type": "code",
   "execution_count": 129,
   "metadata": {},
   "outputs": [
    {
     "data": {
      "text/plain": [
       "id                  0\n",
       "mssubclass          0\n",
       "mszoning            0\n",
       "lotfrontage       259\n",
       "lotarea             0\n",
       "street              0\n",
       "alley            1369\n",
       "lotshape            0\n",
       "landcontour         0\n",
       "utilities           0\n",
       "lotconfig           0\n",
       "landslope           0\n",
       "neighborhood        0\n",
       "condition1          0\n",
       "condition2          0\n",
       "bldgtype            0\n",
       "housestyle          0\n",
       "overallqual         0\n",
       "overallcond         0\n",
       "yearbuilt           0\n",
       "yearremodadd        0\n",
       "roofstyle           0\n",
       "roofmatl            0\n",
       "exterior1st         0\n",
       "exterior2nd         0\n",
       "masvnrtype          8\n",
       "masvnrarea          8\n",
       "exterqual           0\n",
       "extercond           0\n",
       "foundation          0\n",
       "bsmtqual           37\n",
       "bsmtcond           37\n",
       "bsmtexposure       38\n",
       "bsmtfintype1       37\n",
       "bsmtfinsf1          0\n",
       "bsmtfintype2       38\n",
       "bsmtfinsf2          0\n",
       "bsmtunfsf           0\n",
       "totalbsmtsf         0\n",
       "heating             0\n",
       "heatingqc           0\n",
       "centralair          0\n",
       "electrical          1\n",
       "firstflrsf          0\n",
       "secondflrsf         0\n",
       "lowqualfinsf        0\n",
       "grlivarea           0\n",
       "bsmtfullbath        0\n",
       "bsmthalfbath        0\n",
       "fullbath            0\n",
       "halfbath            0\n",
       "bedroomabvgr        0\n",
       "kitchenabvgr        0\n",
       "kitchenqual         0\n",
       "totrmsabvgrd        0\n",
       "functional          0\n",
       "fireplaces          0\n",
       "fireplacequ       690\n",
       "garagetype         81\n",
       "garageyrblt        81\n",
       "garagefinish       81\n",
       "garagecars          0\n",
       "garagearea          0\n",
       "garagequal         81\n",
       "garagecond         81\n",
       "paveddrive          0\n",
       "wooddecksf          0\n",
       "openporchsf         0\n",
       "enclosedporch       0\n",
       "threessnporch       0\n",
       "screenporch         0\n",
       "poolarea            0\n",
       "poolqc           1453\n",
       "fence            1179\n",
       "miscfeature      1406\n",
       "miscval             0\n",
       "mosold              0\n",
       "yrsold              0\n",
       "saletype            0\n",
       "salecondition       0\n",
       "saleprice           0\n",
       "dtype: int64"
      ]
     },
     "execution_count": 129,
     "metadata": {},
     "output_type": "execute_result"
    }
   ],
   "source": [
    "pd.isnull(hp_df).sum()"
   ]
  },
  {
   "cell_type": "markdown",
   "metadata": {},
   "source": [
    "### ignore missing values since will not use in model"
   ]
  },
  {
   "cell_type": "code",
   "execution_count": 130,
   "metadata": {},
   "outputs": [
    {
     "name": "stdout",
     "output_type": "stream",
     "text": [
      "Index(['mszoning', 'street', 'alley', 'lotshape', 'landcontour', 'utilities',\n",
      "       'lotconfig', 'landslope', 'neighborhood', 'condition1', 'condition2',\n",
      "       'bldgtype', 'housestyle', 'roofstyle', 'roofmatl', 'exterior1st',\n",
      "       'exterior2nd', 'masvnrtype', 'exterqual', 'extercond', 'foundation',\n",
      "       'bsmtqual', 'bsmtcond', 'bsmtexposure', 'bsmtfintype1', 'bsmtfintype2',\n",
      "       'heating', 'heatingqc', 'centralair', 'electrical', 'kitchenqual',\n",
      "       'functional', 'fireplacequ', 'garagetype', 'garagefinish', 'garagequal',\n",
      "       'garagecond', 'paveddrive', 'poolqc', 'fence', 'miscfeature',\n",
      "       'saletype', 'salecondition'],\n",
      "      dtype='object')\n"
     ]
    }
   ],
   "source": [
    "# identify non numeric columns\n",
    "\n",
    "non_numeric_columns = hp_df.select_dtypes(['object']).columns\n",
    "print(non_numeric_columns)"
   ]
  },
  {
   "cell_type": "code",
   "execution_count": null,
   "metadata": {},
   "outputs": [],
   "source": [
    "plt.figure(figsize=(30,50))\n",
    "\n",
    "for index, column in enumerate(non_numeric_columns):\n",
    "    plt.subplot(11,4,index+1)\n",
    "    plt.bar(hp_df.groupby(column)[\"saleprice\"].mean().index, hp_df.groupby(column)[\"saleprice\"].mean(),\n",
    "           color=(\"grey\",\"green\"))\n",
    "    plt.title(\"Average saleprice wrt. {}\".format(column))\n",
    "    plt.ylabel(\"Average sale price\")\n",
    "    plt.xlabel(column)\n",
    "    plt.xticks(rotation='vertical')\n",
    "\n",
    "plt.tight_layout()\n",
    "plt.show()"
   ]
  },
  {
   "cell_type": "markdown",
   "metadata": {},
   "source": [
    " ### convert to dummy "
   ]
  },
  {
   "cell_type": "code",
   "execution_count": 119,
   "metadata": {},
   "outputs": [],
   "source": [
    "hp_df = pd.concat([hp_df,pd.get_dummies(hp_df.mszoning, prefix=\"mszoning\", drop_first=True)], axis=1)\n",
    "hp_df = pd.concat([hp_df,pd.get_dummies(hp_df.street, prefix=\"street\", drop_first=True)], axis=1)\n",
    "dummy_column_names = list(pd.get_dummies(hp_df.mszoning, prefix=\"mszoning\", drop_first=True).columns)\n",
    "dummy_column_names = dummy_column_names + list(pd.get_dummies(hp_df.street, prefix=\"street\", drop_first=True).columns)"
   ]
  },
  {
   "cell_type": "markdown",
   "metadata": {},
   "source": [
    "### Load model"
   ]
  },
  {
   "cell_type": "code",
   "execution_count": 122,
   "metadata": {},
   "outputs": [],
   "source": [
    "X = hp_df[['overallqual', 'grlivarea', 'garagecars', 'garagearea', 'totalbsmtsf'] + dummy_column_names]\n",
    "Y = hp_df.saleprice"
   ]
  },
  {
   "cell_type": "code",
   "execution_count": 123,
   "metadata": {},
   "outputs": [
    {
     "data": {
      "text/html": [
       "<table class=\"simpletable\">\n",
       "<caption>OLS Regression Results</caption>\n",
       "<tr>\n",
       "  <th>Dep. Variable:</th>        <td>saleprice</td>    <th>  R-squared:         </th> <td>   0.769</td> \n",
       "</tr>\n",
       "<tr>\n",
       "  <th>Model:</th>                   <td>OLS</td>       <th>  Adj. R-squared:    </th> <td>   0.767</td> \n",
       "</tr>\n",
       "<tr>\n",
       "  <th>Method:</th>             <td>Least Squares</td>  <th>  F-statistic:       </th> <td>   482.0</td> \n",
       "</tr>\n",
       "<tr>\n",
       "  <th>Date:</th>             <td>Wed, 04 Sep 2019</td> <th>  Prob (F-statistic):</th>  <td>  0.00</td>  \n",
       "</tr>\n",
       "<tr>\n",
       "  <th>Time:</th>                 <td>09:37:04</td>     <th>  Log-Likelihood:    </th> <td> -17475.</td> \n",
       "</tr>\n",
       "<tr>\n",
       "  <th>No. Observations:</th>      <td>  1460</td>      <th>  AIC:               </th> <td>3.497e+04</td>\n",
       "</tr>\n",
       "<tr>\n",
       "  <th>Df Residuals:</th>          <td>  1449</td>      <th>  BIC:               </th> <td>3.503e+04</td>\n",
       "</tr>\n",
       "<tr>\n",
       "  <th>Df Model:</th>              <td>    10</td>      <th>                     </th>     <td> </td>    \n",
       "</tr>\n",
       "<tr>\n",
       "  <th>Covariance Type:</th>      <td>nonrobust</td>    <th>                     </th>     <td> </td>    \n",
       "</tr>\n",
       "</table>\n",
       "<table class=\"simpletable\">\n",
       "<tr>\n",
       "       <td></td>          <th>coef</th>     <th>std err</th>      <th>t</th>      <th>P>|t|</th>  <th>[0.025</th>    <th>0.975]</th>  \n",
       "</tr>\n",
       "<tr>\n",
       "  <th>const</th>       <td>-1.173e+05</td> <td>  1.8e+04</td> <td>   -6.502</td> <td> 0.000</td> <td>-1.53e+05</td> <td>-8.19e+04</td>\n",
       "</tr>\n",
       "<tr>\n",
       "  <th>overallqual</th> <td> 2.333e+04</td> <td> 1088.506</td> <td>   21.430</td> <td> 0.000</td> <td> 2.12e+04</td> <td> 2.55e+04</td>\n",
       "</tr>\n",
       "<tr>\n",
       "  <th>grlivarea</th>   <td>   45.6344</td> <td>    2.468</td> <td>   18.494</td> <td> 0.000</td> <td>   40.794</td> <td>   50.475</td>\n",
       "</tr>\n",
       "<tr>\n",
       "  <th>garagecars</th>  <td> 1.345e+04</td> <td> 2990.453</td> <td>    4.498</td> <td> 0.000</td> <td> 7584.056</td> <td> 1.93e+04</td>\n",
       "</tr>\n",
       "<tr>\n",
       "  <th>garagearea</th>  <td>   16.4082</td> <td>   10.402</td> <td>    1.577</td> <td> 0.115</td> <td>   -3.997</td> <td>   36.813</td>\n",
       "</tr>\n",
       "<tr>\n",
       "  <th>totalbsmtsf</th> <td>   28.3816</td> <td>    2.931</td> <td>    9.684</td> <td> 0.000</td> <td>   22.633</td> <td>   34.131</td>\n",
       "</tr>\n",
       "<tr>\n",
       "  <th>mszoning_FV</th> <td> 8362.5046</td> <td> 4562.459</td> <td>    1.833</td> <td> 0.067</td> <td> -587.226</td> <td> 1.73e+04</td>\n",
       "</tr>\n",
       "<tr>\n",
       "  <th>mszoning_FV</th> <td> 8362.5046</td> <td> 4562.459</td> <td>    1.833</td> <td> 0.067</td> <td> -587.226</td> <td> 1.73e+04</td>\n",
       "</tr>\n",
       "<tr>\n",
       "  <th>mszoning_FV</th> <td> 8362.5046</td> <td> 4562.459</td> <td>    1.833</td> <td> 0.067</td> <td> -587.226</td> <td> 1.73e+04</td>\n",
       "</tr>\n",
       "<tr>\n",
       "  <th>mszoning_RH</th> <td> 4473.4855</td> <td> 5282.272</td> <td>    0.847</td> <td> 0.397</td> <td>-5888.232</td> <td> 1.48e+04</td>\n",
       "</tr>\n",
       "<tr>\n",
       "  <th>mszoning_RH</th> <td> 4473.4855</td> <td> 5282.272</td> <td>    0.847</td> <td> 0.397</td> <td>-5888.232</td> <td> 1.48e+04</td>\n",
       "</tr>\n",
       "<tr>\n",
       "  <th>mszoning_RH</th> <td> 4473.4855</td> <td> 5282.272</td> <td>    0.847</td> <td> 0.397</td> <td>-5888.232</td> <td> 1.48e+04</td>\n",
       "</tr>\n",
       "<tr>\n",
       "  <th>mszoning_RL</th> <td> 9521.9520</td> <td> 4240.253</td> <td>    2.246</td> <td> 0.025</td> <td> 1204.261</td> <td> 1.78e+04</td>\n",
       "</tr>\n",
       "<tr>\n",
       "  <th>mszoning_RL</th> <td> 9521.9520</td> <td> 4240.253</td> <td>    2.246</td> <td> 0.025</td> <td> 1204.261</td> <td> 1.78e+04</td>\n",
       "</tr>\n",
       "<tr>\n",
       "  <th>mszoning_RL</th> <td> 9521.9520</td> <td> 4240.253</td> <td>    2.246</td> <td> 0.025</td> <td> 1204.261</td> <td> 1.78e+04</td>\n",
       "</tr>\n",
       "<tr>\n",
       "  <th>mszoning_RM</th> <td> 3015.9298</td> <td> 4296.911</td> <td>    0.702</td> <td> 0.483</td> <td>-5412.902</td> <td> 1.14e+04</td>\n",
       "</tr>\n",
       "<tr>\n",
       "  <th>mszoning_RM</th> <td> 3015.9298</td> <td> 4296.911</td> <td>    0.702</td> <td> 0.483</td> <td>-5412.902</td> <td> 1.14e+04</td>\n",
       "</tr>\n",
       "<tr>\n",
       "  <th>mszoning_RM</th> <td> 3015.9298</td> <td> 4296.911</td> <td>    0.702</td> <td> 0.483</td> <td>-5412.902</td> <td> 1.14e+04</td>\n",
       "</tr>\n",
       "<tr>\n",
       "  <th>street_Pave</th> <td>   50.3459</td> <td> 5430.500</td> <td>    0.009</td> <td> 0.993</td> <td>-1.06e+04</td> <td> 1.07e+04</td>\n",
       "</tr>\n",
       "<tr>\n",
       "  <th>street_Pave</th> <td>   50.3459</td> <td> 5430.500</td> <td>    0.009</td> <td> 0.993</td> <td>-1.06e+04</td> <td> 1.07e+04</td>\n",
       "</tr>\n",
       "<tr>\n",
       "  <th>street_Pave</th> <td>   50.3459</td> <td> 5430.500</td> <td>    0.009</td> <td> 0.993</td> <td>-1.06e+04</td> <td> 1.07e+04</td>\n",
       "</tr>\n",
       "</table>\n",
       "<table class=\"simpletable\">\n",
       "<tr>\n",
       "  <th>Omnibus:</th>       <td>415.883</td> <th>  Durbin-Watson:     </th> <td>   1.979</td> \n",
       "</tr>\n",
       "<tr>\n",
       "  <th>Prob(Omnibus):</th> <td> 0.000</td>  <th>  Jarque-Bera (JB):  </th> <td>41281.526</td>\n",
       "</tr>\n",
       "<tr>\n",
       "  <th>Skew:</th>          <td>-0.115</td>  <th>  Prob(JB):          </th> <td>    0.00</td> \n",
       "</tr>\n",
       "<tr>\n",
       "  <th>Kurtosis:</th>      <td>29.049</td>  <th>  Cond. No.          </th> <td>3.93e+37</td> \n",
       "</tr>\n",
       "</table>"
      ],
      "text/plain": [
       "<class 'statsmodels.iolib.summary.Summary'>\n",
       "\"\"\"\n",
       "                            OLS Regression Results                            \n",
       "==============================================================================\n",
       "Dep. Variable:              saleprice   R-squared:                       0.769\n",
       "Model:                            OLS   Adj. R-squared:                  0.767\n",
       "Method:                 Least Squares   F-statistic:                     482.0\n",
       "Date:                Wed, 04 Sep 2019   Prob (F-statistic):               0.00\n",
       "Time:                        09:37:04   Log-Likelihood:                -17475.\n",
       "No. Observations:                1460   AIC:                         3.497e+04\n",
       "Df Residuals:                    1449   BIC:                         3.503e+04\n",
       "Df Model:                          10                                         \n",
       "Covariance Type:            nonrobust                                         \n",
       "===============================================================================\n",
       "                  coef    std err          t      P>|t|      [0.025      0.975]\n",
       "-------------------------------------------------------------------------------\n",
       "const       -1.173e+05    1.8e+04     -6.502      0.000   -1.53e+05   -8.19e+04\n",
       "overallqual  2.333e+04   1088.506     21.430      0.000    2.12e+04    2.55e+04\n",
       "grlivarea      45.6344      2.468     18.494      0.000      40.794      50.475\n",
       "garagecars   1.345e+04   2990.453      4.498      0.000    7584.056    1.93e+04\n",
       "garagearea     16.4082     10.402      1.577      0.115      -3.997      36.813\n",
       "totalbsmtsf    28.3816      2.931      9.684      0.000      22.633      34.131\n",
       "mszoning_FV  8362.5046   4562.459      1.833      0.067    -587.226    1.73e+04\n",
       "mszoning_FV  8362.5046   4562.459      1.833      0.067    -587.226    1.73e+04\n",
       "mszoning_FV  8362.5046   4562.459      1.833      0.067    -587.226    1.73e+04\n",
       "mszoning_RH  4473.4855   5282.272      0.847      0.397   -5888.232    1.48e+04\n",
       "mszoning_RH  4473.4855   5282.272      0.847      0.397   -5888.232    1.48e+04\n",
       "mszoning_RH  4473.4855   5282.272      0.847      0.397   -5888.232    1.48e+04\n",
       "mszoning_RL  9521.9520   4240.253      2.246      0.025    1204.261    1.78e+04\n",
       "mszoning_RL  9521.9520   4240.253      2.246      0.025    1204.261    1.78e+04\n",
       "mszoning_RL  9521.9520   4240.253      2.246      0.025    1204.261    1.78e+04\n",
       "mszoning_RM  3015.9298   4296.911      0.702      0.483   -5412.902    1.14e+04\n",
       "mszoning_RM  3015.9298   4296.911      0.702      0.483   -5412.902    1.14e+04\n",
       "mszoning_RM  3015.9298   4296.911      0.702      0.483   -5412.902    1.14e+04\n",
       "street_Pave    50.3459   5430.500      0.009      0.993   -1.06e+04    1.07e+04\n",
       "street_Pave    50.3459   5430.500      0.009      0.993   -1.06e+04    1.07e+04\n",
       "street_Pave    50.3459   5430.500      0.009      0.993   -1.06e+04    1.07e+04\n",
       "==============================================================================\n",
       "Omnibus:                      415.883   Durbin-Watson:                   1.979\n",
       "Prob(Omnibus):                  0.000   Jarque-Bera (JB):            41281.526\n",
       "Skew:                          -0.115   Prob(JB):                         0.00\n",
       "Kurtosis:                      29.049   Cond. No.                     3.93e+37\n",
       "==============================================================================\n",
       "\n",
       "Warnings:\n",
       "[1] Standard Errors assume that the covariance matrix of the errors is correctly specified.\n",
       "[2] The smallest eigenvalue is 3.78e-66. This might indicate that there are\n",
       "strong multicollinearity problems or that the design matrix is singular.\n",
       "\"\"\""
      ]
     },
     "execution_count": 123,
     "metadata": {},
     "output_type": "execute_result"
    }
   ],
   "source": [
    "X = sm.add_constant(X)\n",
    "\n",
    "results = sm.OLS(Y, X).fit()\n",
    "\n",
    "results.summary()"
   ]
  },
  {
   "cell_type": "code",
   "execution_count": null,
   "metadata": {
    "collapsed": true
   },
   "outputs": [],
   "source": []
  }
 ],
 "metadata": {
  "kernelspec": {
   "display_name": "Python 3",
   "language": "python",
   "name": "python3"
  },
  "language_info": {
   "codemirror_mode": {
    "name": "ipython",
    "version": 3
   },
   "file_extension": ".py",
   "mimetype": "text/x-python",
   "name": "python",
   "nbconvert_exporter": "python",
   "pygments_lexer": "ipython3",
   "version": "3.6.1"
  }
 },
 "nbformat": 4,
 "nbformat_minor": 2
}
